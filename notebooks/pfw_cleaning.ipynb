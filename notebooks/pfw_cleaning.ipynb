{
 "cells": [
  {
   "cell_type": "code",
   "execution_count": 1,
   "id": "12770b1c",
   "metadata": {},
   "outputs": [],
   "source": [
    "import pandas as pd\n",
    "import numpy as np\n",
    "import itertools"
   ]
  },
  {
   "cell_type": "markdown",
   "id": "baa09d60",
   "metadata": {},
   "source": [
    "#### Read in CSVs"
   ]
  },
  {
   "cell_type": "code",
   "execution_count": 2,
   "id": "7fec5128",
   "metadata": {},
   "outputs": [],
   "source": [
    "pfw_df_1988_1995_orig = pd.read_csv('../data/PFW_1988_1995_public.csv')"
   ]
  },
  {
   "cell_type": "code",
   "execution_count": 3,
   "id": "009cd88c",
   "metadata": {},
   "outputs": [],
   "source": [
    "pfw_df_1996_2000_orig = pd.read_csv('../data/PFW_1996_2000_public.csv')"
   ]
  },
  {
   "cell_type": "code",
   "execution_count": 4,
   "id": "5c6887a2",
   "metadata": {},
   "outputs": [],
   "source": [
    "pfw_df_2001_2005_orig = pd.read_csv('../data/PFW_2001_2005_public.csv')"
   ]
  },
  {
   "cell_type": "code",
   "execution_count": 5,
   "id": "f864e6f0",
   "metadata": {},
   "outputs": [],
   "source": [
    "pfw_df_2006_2010_orig = pd.read_csv('../data/PFW_2006_2010_public.csv')"
   ]
  },
  {
   "cell_type": "code",
   "execution_count": 6,
   "id": "b817a6f8",
   "metadata": {},
   "outputs": [],
   "source": [
    "pfw_df_2011_2015_orig = pd.read_csv('../data/PFW_2011_2015_public.csv')"
   ]
  },
  {
   "cell_type": "code",
   "execution_count": 7,
   "id": "fe19a408",
   "metadata": {},
   "outputs": [],
   "source": [
    "pfw_df_2016_2020_orig = pd.read_csv('../data/PFW_2016_2020_public.csv')"
   ]
  },
  {
   "cell_type": "code",
   "execution_count": 8,
   "id": "faf87e8b",
   "metadata": {},
   "outputs": [],
   "source": [
    "pfw_df_2021_orig = pd.read_csv('../data/PFW_2021_public.csv')"
   ]
  },
  {
   "cell_type": "code",
   "execution_count": 9,
   "id": "76251948",
   "metadata": {},
   "outputs": [],
   "source": [
    "pfw_df_1988_1995 = pfw_df_1988_1995_orig.copy(deep=True)\n",
    "pfw_df_1996_2000 = pfw_df_1996_2000_orig.copy(deep=True)\n",
    "pfw_df_2001_2005 = pfw_df_2001_2005_orig.copy(deep=True)\n",
    "pfw_df_2006_2010 = pfw_df_2006_2010_orig.copy(deep=True)\n",
    "pfw_df_2011_2015 = pfw_df_2011_2015_orig.copy(deep=True)\n",
    "pfw_df_2016_2020 = pfw_df_2016_2020_orig.copy(deep=True)\n",
    "pfw_df_2021 = pfw_df_2021_orig.copy(deep=True)"
   ]
  },
  {
   "cell_type": "markdown",
   "id": "87b8026f",
   "metadata": {},
   "source": [
    "#### Fix and Filter Column Headers"
   ]
  },
  {
   "cell_type": "code",
   "execution_count": 10,
   "id": "0c6bf0db",
   "metadata": {},
   "outputs": [],
   "source": [
    "pfw_df_1988_1995.columns = pfw_df_1988_1995.columns.str.lower()\n",
    "pfw_df_1996_2000.columns = pfw_df_1996_2000.columns.str.lower()\n",
    "pfw_df_2001_2005.columns = pfw_df_2001_2005.columns.str.lower()\n",
    "pfw_df_2006_2010.columns = pfw_df_2006_2010.columns.str.lower()\n",
    "pfw_df_2011_2015.columns = pfw_df_2011_2015.columns.str.lower()\n",
    "pfw_df_2016_2020.columns = pfw_df_2016_2020.columns.str.lower()\n",
    "pfw_df_2021.columns = pfw_df_2021.columns.str.lower()"
   ]
  },
  {
   "cell_type": "code",
   "execution_count": 11,
   "id": "0b069b69",
   "metadata": {},
   "outputs": [
    {
     "name": "stdout",
     "output_type": "stream",
     "text": [
      "Mismatching column lengths at indices 5 and 6.\n",
      "Mismatching column headers at column index 13: \"plus_code\" vs \"valid\"\n"
     ]
    }
   ],
   "source": [
    "column_set = [pfw_df_1988_1995.columns,\n",
    "              pfw_df_1996_2000.columns,\n",
    "              pfw_df_2001_2005.columns,\n",
    "              pfw_df_2006_2010.columns,\n",
    "              pfw_df_2011_2015.columns,\n",
    "              pfw_df_2016_2020.columns,\n",
    "              pfw_df_2021.columns]\n",
    "\n",
    "# Compare column headers\n",
    "index = 1\n",
    "while index < len(column_set):\n",
    "    column_index = 0\n",
    "    if(len(column_set[index - 1]) == len(column_set[index])):\n",
    "        while column_index < len(column_set[index]):\n",
    "            if(column_set[index - 1][column_index] != column_set[index][column_index]):\n",
    "                print('Mismatching column headers at column index', column_index)\n",
    "            column_index += 1\n",
    "    else:\n",
    "        print('Mismatching column lengths at indices', index - 1, 'and ' + str(index) + '.')\n",
    "        while column_index < min(len(column_set[index - 1]), len(column_set[index])):\n",
    "            if(column_set[index - 1][column_index] != column_set[index][column_index]):\n",
    "                print('Mismatching column headers at column index ' \n",
    "                      + str(column_index) + ': \"' + column_set[index - 1][column_index] + '\" vs \"' +\n",
    "                      column_set[index][column_index] + '\"')\n",
    "                break\n",
    "            column_index += 1\n",
    "    index += 1"
   ]
  },
  {
   "cell_type": "code",
   "execution_count": 12,
   "id": "5beb47ee",
   "metadata": {},
   "outputs": [
    {
     "name": "stdout",
     "output_type": "stream",
     "text": [
      "Index(['loc_id', 'latitude', 'longitude', 'subnational1_code',\n",
      "       'entry_technique', 'sub_id', 'obs_id', 'month', 'day', 'year',\n",
      "       'proj_period_id', 'species_code', 'how_many', 'plus_code', 'valid',\n",
      "       'reviewed', 'day1_am', 'day1_pm', 'day2_am', 'day2_pm',\n",
      "       'effort_hrs_atleast', 'snow_dep_atleast', 'data_entry_method'],\n",
      "      dtype='object')\n",
      "Index(['loc_id', 'latitude', 'longitude', 'subnational1_code',\n",
      "       'entry_technique', 'sub_id', 'obs_id', 'month', 'day', 'year',\n",
      "       'proj_period_id', 'species_code', 'how_many', 'valid', 'reviewed',\n",
      "       'day1_am', 'day1_pm', 'day2_am', 'day2_pm', 'effort_hrs_atleast',\n",
      "       'snow_dep_atleast', 'data_entry_method'],\n",
      "      dtype='object')\n"
     ]
    }
   ],
   "source": [
    "print(column_set[5])\n",
    "print(column_set[6])"
   ]
  },
  {
   "cell_type": "code",
   "execution_count": 13,
   "id": "eb9bd8d0",
   "metadata": {},
   "outputs": [],
   "source": [
    "# Remove unnecessary columns, including the obsolete 'plus_code' column\n",
    "valid_headers = ['obs_id',\n",
    "                 'sub_id', \n",
    "                 'proj_period_id',\n",
    "                 'month', \n",
    "                 'day', \n",
    "                 'year',\n",
    "                 'species_code',\n",
    "                 'how_many',\n",
    "                 'valid',\n",
    "                 'day1_am',\n",
    "                 'day1_pm',\n",
    "                 'day2_am',\n",
    "                 'day2_pm',\n",
    "                 'effort_hrs_atleast',\n",
    "                 'snow_dep_atleast',\n",
    "                 'data_entry_method',\n",
    "                 'subnational1_code',\n",
    "                 'loc_id',\n",
    "                 'latitude',\n",
    "                 'longitude']"
   ]
  },
  {
   "cell_type": "code",
   "execution_count": 14,
   "id": "2ece8029",
   "metadata": {},
   "outputs": [],
   "source": [
    "pfw_df_1988_1995 = pfw_df_1988_1995[valid_headers]\n",
    "pfw_df_1996_2000 = pfw_df_1996_2000[valid_headers]\n",
    "pfw_df_2001_2005 = pfw_df_2001_2005[valid_headers]\n",
    "pfw_df_2006_2010 = pfw_df_2006_2010[valid_headers]\n",
    "pfw_df_2011_2015 = pfw_df_2011_2015[valid_headers]\n",
    "pfw_df_2016_2020 = pfw_df_2016_2020[valid_headers]\n",
    "pfw_df_2021 = pfw_df_2021[valid_headers]"
   ]
  },
  {
   "cell_type": "markdown",
   "id": "8df7b84b",
   "metadata": {},
   "source": [
    "#### Combine the Separate DataFrames"
   ]
  },
  {
   "cell_type": "code",
   "execution_count": 102,
   "id": "3852a966",
   "metadata": {},
   "outputs": [],
   "source": [
    "pfw_df_1988_2021 = pd.concat([pfw_df_1988_1995,\n",
    "                              pfw_df_1996_2000,\n",
    "                              pfw_df_2001_2005,\n",
    "                              pfw_df_2006_2010,\n",
    "                              pfw_df_2011_2015,\n",
    "                              pfw_df_2016_2020,\n",
    "                              pfw_df_2021])"
   ]
  },
  {
   "cell_type": "code",
   "execution_count": 103,
   "id": "3e0359fa",
   "metadata": {
    "scrolled": true
   },
   "outputs": [
    {
     "data": {
      "text/plain": [
       "(36971663, 20)"
      ]
     },
     "execution_count": 103,
     "metadata": {},
     "output_type": "execute_result"
    }
   ],
   "source": [
    "pfw_df_1988_2021.shape"
   ]
  },
  {
   "cell_type": "markdown",
   "id": "3396aa8e",
   "metadata": {},
   "source": [
    "#### Remove Invalid Observations"
   ]
  },
  {
   "cell_type": "code",
   "execution_count": 158,
   "id": "55bbdced",
   "metadata": {
    "scrolled": true
   },
   "outputs": [],
   "source": [
    "pfw_df_1988_2021 = pfw_df_1988_2021.loc[pfw_df_1988_2021.valid == 1]"
   ]
  },
  {
   "cell_type": "code",
   "execution_count": 159,
   "id": "6bca6526",
   "metadata": {},
   "outputs": [
    {
     "data": {
      "text/plain": [
       "(36782264, 20)"
      ]
     },
     "execution_count": 159,
     "metadata": {},
     "output_type": "execute_result"
    }
   ],
   "source": [
    "pfw_df_1988_2021.shape"
   ]
  },
  {
   "cell_type": "code",
   "execution_count": 160,
   "id": "29e9ada5",
   "metadata": {},
   "outputs": [],
   "source": [
    "pfw_df_1988_2021 = pfw_df_1988_2021.drop(labels='valid', \n",
    "                                         axis='columns')"
   ]
  },
  {
   "cell_type": "markdown",
   "id": "73298ed9",
   "metadata": {},
   "source": [
    "#### Rename a few columns"
   ]
  },
  {
   "cell_type": "code",
   "execution_count": 161,
   "id": "9d373cf3",
   "metadata": {},
   "outputs": [],
   "source": [
    "pfw_df_1988_2021 = pfw_df_1988_2021.rename(columns={'effort_hrs_atleast':'effort_id',\n",
    "                                                    'data_entry_method':'entry_id',\n",
    "                                                    'subnational1_code':'state'})"
   ]
  },
  {
   "cell_type": "markdown",
   "id": "7f4f53f5",
   "metadata": {},
   "source": [
    "#### Retain only US observations (exclude Canada)"
   ]
  },
  {
   "cell_type": "code",
   "execution_count": 162,
   "id": "2820c122",
   "metadata": {},
   "outputs": [
    {
     "data": {
      "text/plain": [
       "['CA-AB',\n",
       " 'CA-BC',\n",
       " 'CA-MB',\n",
       " 'CA-NB',\n",
       " 'CA-NL',\n",
       " 'CA-NS',\n",
       " 'CA-NT',\n",
       " 'CA-NU',\n",
       " 'CA-ON',\n",
       " 'CA-PE',\n",
       " 'CA-QC',\n",
       " 'CA-SK',\n",
       " 'CA-YT',\n",
       " 'MX-JAL',\n",
       " 'MX-NAY',\n",
       " 'NZ-OTA',\n",
       " 'PM-',\n",
       " 'US-AK',\n",
       " 'US-AL',\n",
       " 'US-AR']"
      ]
     },
     "execution_count": 162,
     "metadata": {},
     "output_type": "execute_result"
    }
   ],
   "source": [
    "sorted(pfw_df_1988_2021.state.unique().tolist())[:20]"
   ]
  },
  {
   "cell_type": "code",
   "execution_count": 163,
   "id": "055239d5",
   "metadata": {},
   "outputs": [],
   "source": [
    "pfw_df_1988_2021 = pfw_df_1988_2021.loc[pfw_df_1988_2021.state.str.startswith('US-')]"
   ]
  },
  {
   "cell_type": "code",
   "execution_count": 164,
   "id": "ccb95d5a",
   "metadata": {},
   "outputs": [
    {
     "data": {
      "text/plain": [
       "(32112589, 19)"
      ]
     },
     "execution_count": 164,
     "metadata": {},
     "output_type": "execute_result"
    }
   ],
   "source": [
    "pfw_df_1988_2021.shape"
   ]
  },
  {
   "cell_type": "code",
   "execution_count": 165,
   "id": "0e6d3f7e",
   "metadata": {
    "scrolled": true
   },
   "outputs": [
    {
     "data": {
      "text/plain": [
       "['US-AK', 'US-AL', 'US-AR', 'US-AZ', 'US-CA']"
      ]
     },
     "execution_count": 165,
     "metadata": {},
     "output_type": "execute_result"
    }
   ],
   "source": [
    "sorted(pfw_df_1988_2021.state.unique().tolist())[:5]"
   ]
  },
  {
   "cell_type": "code",
   "execution_count": 166,
   "id": "f0d27624",
   "metadata": {
    "scrolled": true
   },
   "outputs": [
    {
     "data": {
      "text/plain": [
       "51"
      ]
     },
     "execution_count": 166,
     "metadata": {},
     "output_type": "execute_result"
    }
   ],
   "source": [
    "pfw_df_1988_2021.state.nunique()"
   ]
  },
  {
   "cell_type": "code",
   "execution_count": 174,
   "id": "6feb6347",
   "metadata": {},
   "outputs": [],
   "source": [
    "pfw_df_1988_2021.state = pfw_df_1988_2021.state.replace(to_replace={'US-':''}, \n",
    "                                                        regex=True)"
   ]
  },
  {
   "cell_type": "code",
   "execution_count": 167,
   "id": "b5860534",
   "metadata": {},
   "outputs": [],
   "source": [
    "pfw_df_1988_2021 = pfw_df_1988_2021.reset_index(drop=True)"
   ]
  },
  {
   "cell_type": "markdown",
   "id": "f307a38e",
   "metadata": {},
   "source": [
    "#### Replace NaN in numeric columns with -1 (an invalid value, to allow data type conversion)"
   ]
  },
  {
   "cell_type": "code",
   "execution_count": 170,
   "id": "c8292389",
   "metadata": {},
   "outputs": [],
   "source": [
    "for col in pfw_df_1988_2021.loc[:, 'day1_am':'effort_id']:\n",
    "    pfw_df_1988_2021[col] = pfw_df_1988_2021[col].replace(to_replace=np.NaN, value=-1).astype('int64')"
   ]
  },
  {
   "cell_type": "markdown",
   "id": "782ed5a6",
   "metadata": {},
   "source": [
    "### Create a dimension table for Data Entry Methods"
   ]
  },
  {
   "cell_type": "markdown",
   "id": "16c88b77",
   "metadata": {},
   "source": [
    "#### Consolidate Data Entry Methods Into: 'Paper = 0', 'Web = 1', and 'Mobile = 2'"
   ]
  },
  {
   "cell_type": "code",
   "execution_count": 29,
   "id": "50e0bfb6",
   "metadata": {
    "scrolled": true
   },
   "outputs": [],
   "source": [
    "pfw_df_1988_2021.entry_id = pfw_df_1988_2021.entry_id.replace(to_replace=['.*[Pp]aper.*', '.*[Ww]eb.*', '.*[Mm]obile.*'],\n",
    "                                                              value=[0, 1, 2],\n",
    "                                                              regex=True)"
   ]
  },
  {
   "cell_type": "markdown",
   "id": "48d1e649",
   "metadata": {},
   "source": [
    "#### Create the dimension table"
   ]
  },
  {
   "cell_type": "code",
   "execution_count": 30,
   "id": "7fc072b8",
   "metadata": {},
   "outputs": [
    {
     "data": {
      "text/html": [
       "<div>\n",
       "<style scoped>\n",
       "    .dataframe tbody tr th:only-of-type {\n",
       "        vertical-align: middle;\n",
       "    }\n",
       "\n",
       "    .dataframe tbody tr th {\n",
       "        vertical-align: top;\n",
       "    }\n",
       "\n",
       "    .dataframe thead th {\n",
       "        text-align: right;\n",
       "    }\n",
       "</style>\n",
       "<table border=\"1\" class=\"dataframe\">\n",
       "  <thead>\n",
       "    <tr style=\"text-align: right;\">\n",
       "      <th></th>\n",
       "      <th>entry_id</th>\n",
       "      <th>entry_method</th>\n",
       "    </tr>\n",
       "  </thead>\n",
       "  <tbody>\n",
       "    <tr>\n",
       "      <th>0</th>\n",
       "      <td>0</td>\n",
       "      <td>Paper</td>\n",
       "    </tr>\n",
       "    <tr>\n",
       "      <th>1</th>\n",
       "      <td>1</td>\n",
       "      <td>Web</td>\n",
       "    </tr>\n",
       "    <tr>\n",
       "      <th>2</th>\n",
       "      <td>2</td>\n",
       "      <td>Mobile</td>\n",
       "    </tr>\n",
       "  </tbody>\n",
       "</table>\n",
       "</div>"
      ],
      "text/plain": [
       "   entry_id entry_method\n",
       "0         0        Paper\n",
       "1         1          Web\n",
       "2         2       Mobile"
      ]
     },
     "execution_count": 30,
     "metadata": {},
     "output_type": "execute_result"
    }
   ],
   "source": [
    "entry_methods_dim = pd.DataFrame(data=['Paper', 'Web', 'Mobile'], \n",
    "                                 columns=['entry_method'])\n",
    "entry_methods_dim = entry_methods_dim.reset_index().rename(columns={'index':'entry_id'})\n",
    "entry_methods_dim"
   ]
  },
  {
   "cell_type": "markdown",
   "id": "3d3954de",
   "metadata": {},
   "source": [
    "### Create a dimension table for Effort in Hours"
   ]
  },
  {
   "cell_type": "markdown",
   "id": "60b94f31",
   "metadata": {},
   "source": [
    "#### Replace Effort Values with Those Corrosponding to the Associated Table"
   ]
  },
  {
   "cell_type": "code",
   "execution_count": 185,
   "id": "80d9b133",
   "metadata": {},
   "outputs": [
    {
     "data": {
      "text/html": [
       "<div>\n",
       "<style scoped>\n",
       "    .dataframe tbody tr th:only-of-type {\n",
       "        vertical-align: middle;\n",
       "    }\n",
       "\n",
       "    .dataframe tbody tr th {\n",
       "        vertical-align: top;\n",
       "    }\n",
       "\n",
       "    .dataframe thead th {\n",
       "        text-align: right;\n",
       "    }\n",
       "</style>\n",
       "<table border=\"1\" class=\"dataframe\">\n",
       "  <thead>\n",
       "    <tr style=\"text-align: right;\">\n",
       "      <th></th>\n",
       "      <th>effort_hrs</th>\n",
       "    </tr>\n",
       "  </thead>\n",
       "  <tbody>\n",
       "    <tr>\n",
       "      <th>0</th>\n",
       "      <td>1</td>\n",
       "    </tr>\n",
       "    <tr>\n",
       "      <th>1</th>\n",
       "      <td>4</td>\n",
       "    </tr>\n",
       "    <tr>\n",
       "      <th>2</th>\n",
       "      <td>0</td>\n",
       "    </tr>\n",
       "    <tr>\n",
       "      <th>3</th>\n",
       "      <td>8</td>\n",
       "    </tr>\n",
       "  </tbody>\n",
       "</table>\n",
       "</div>"
      ],
      "text/plain": [
       "   effort_hrs\n",
       "0           1\n",
       "1           4\n",
       "2           0\n",
       "3           8"
      ]
     },
     "execution_count": 185,
     "metadata": {},
     "output_type": "execute_result"
    }
   ],
   "source": [
    "effort_dim = pd.DataFrame(data=pfw_df_1988_2021.loc[pfw_df_1988_2021.effort_id != -1].effort_id.unique(), \n",
    "                          columns=['effort_hrs'])\n",
    "effort_dim"
   ]
  },
  {
   "cell_type": "code",
   "execution_count": 186,
   "id": "5df98eef",
   "metadata": {},
   "outputs": [
    {
     "data": {
      "text/html": [
       "<div>\n",
       "<style scoped>\n",
       "    .dataframe tbody tr th:only-of-type {\n",
       "        vertical-align: middle;\n",
       "    }\n",
       "\n",
       "    .dataframe tbody tr th {\n",
       "        vertical-align: top;\n",
       "    }\n",
       "\n",
       "    .dataframe thead th {\n",
       "        text-align: right;\n",
       "    }\n",
       "</style>\n",
       "<table border=\"1\" class=\"dataframe\">\n",
       "  <thead>\n",
       "    <tr style=\"text-align: right;\">\n",
       "      <th></th>\n",
       "      <th>effort_hrs</th>\n",
       "    </tr>\n",
       "  </thead>\n",
       "  <tbody>\n",
       "    <tr>\n",
       "      <th>0</th>\n",
       "      <td>1-4</td>\n",
       "    </tr>\n",
       "    <tr>\n",
       "      <th>1</th>\n",
       "      <td>4-8</td>\n",
       "    </tr>\n",
       "    <tr>\n",
       "      <th>2</th>\n",
       "      <td>0-1</td>\n",
       "    </tr>\n",
       "    <tr>\n",
       "      <th>3</th>\n",
       "      <td>8+</td>\n",
       "    </tr>\n",
       "  </tbody>\n",
       "</table>\n",
       "</div>"
      ],
      "text/plain": [
       "  effort_hrs\n",
       "0        1-4\n",
       "1        4-8\n",
       "2        0-1\n",
       "3         8+"
      ]
     },
     "execution_count": 186,
     "metadata": {},
     "output_type": "execute_result"
    }
   ],
   "source": [
    "effort_dim = effort_dim.replace(to_replace=[0, 1, 4, 8],\n",
    "                                value=['0-1', '1-4', '4-8', '8+'])\n",
    "effort_dim"
   ]
  },
  {
   "cell_type": "code",
   "execution_count": 187,
   "id": "2a4498d2",
   "metadata": {},
   "outputs": [
    {
     "data": {
      "text/html": [
       "<div>\n",
       "<style scoped>\n",
       "    .dataframe tbody tr th:only-of-type {\n",
       "        vertical-align: middle;\n",
       "    }\n",
       "\n",
       "    .dataframe tbody tr th {\n",
       "        vertical-align: top;\n",
       "    }\n",
       "\n",
       "    .dataframe thead th {\n",
       "        text-align: right;\n",
       "    }\n",
       "</style>\n",
       "<table border=\"1\" class=\"dataframe\">\n",
       "  <thead>\n",
       "    <tr style=\"text-align: right;\">\n",
       "      <th></th>\n",
       "      <th>effort_id</th>\n",
       "      <th>effort_hrs</th>\n",
       "    </tr>\n",
       "  </thead>\n",
       "  <tbody>\n",
       "    <tr>\n",
       "      <th>0</th>\n",
       "      <td>0</td>\n",
       "      <td>0-1</td>\n",
       "    </tr>\n",
       "    <tr>\n",
       "      <th>1</th>\n",
       "      <td>1</td>\n",
       "      <td>1-4</td>\n",
       "    </tr>\n",
       "    <tr>\n",
       "      <th>2</th>\n",
       "      <td>4</td>\n",
       "      <td>4-8</td>\n",
       "    </tr>\n",
       "    <tr>\n",
       "      <th>3</th>\n",
       "      <td>8</td>\n",
       "      <td>8+</td>\n",
       "    </tr>\n",
       "  </tbody>\n",
       "</table>\n",
       "</div>"
      ],
      "text/plain": [
       "   effort_id effort_hrs\n",
       "0          0        0-1\n",
       "1          1        1-4\n",
       "2          4        4-8\n",
       "3          8         8+"
      ]
     },
     "execution_count": 187,
     "metadata": {},
     "output_type": "execute_result"
    }
   ],
   "source": [
    "effort_dim = effort_dim.sort_values(by='effort_hrs').reset_index(drop=True)\n",
    "effort_dim = effort_dim.rename(index={0:0, 1:1, 2:4, 3:8})\n",
    "effort_dim = effort_dim.reset_index().rename(columns={'index':'effort_id'})\n",
    "effort_dim"
   ]
  },
  {
   "cell_type": "markdown",
   "id": "2dac7755",
   "metadata": {},
   "source": [
    "### Read-in PFW Data Dictionary"
   ]
  },
  {
   "cell_type": "code",
   "execution_count": 35,
   "id": "617c4c2b",
   "metadata": {},
   "outputs": [],
   "source": [
    "data_dict_orig = pd.read_excel('../data/FeederWatch_Data_Dictionary.xlsx',\n",
    "                               sheet_name='Species Codes',\n",
    "                               header=1)"
   ]
  },
  {
   "cell_type": "code",
   "execution_count": 36,
   "id": "09f0f085",
   "metadata": {},
   "outputs": [],
   "source": [
    "data_dict_dim = data_dict_orig.copy(deep=True)"
   ]
  },
  {
   "cell_type": "code",
   "execution_count": 37,
   "id": "9c62ec04",
   "metadata": {},
   "outputs": [],
   "source": [
    "data_dict_dim.columns = data_dict_dim.columns.str.lower()\n",
    "data_dict_dim = data_dict_dim[['species_code',\n",
    "                               'sci_name',\n",
    "                               'primary_com_name',\n",
    "                               'order1',\n",
    "                               'family',\n",
    "                               'extinct',\n",
    "                               'extinct_year']]\n",
    "data_dict_dim = data_dict_dim.rename(columns={'order1':'order'})"
   ]
  },
  {
   "cell_type": "code",
   "execution_count": 38,
   "id": "838278ba",
   "metadata": {},
   "outputs": [
    {
     "data": {
      "text/html": [
       "<div>\n",
       "<style scoped>\n",
       "    .dataframe tbody tr th:only-of-type {\n",
       "        vertical-align: middle;\n",
       "    }\n",
       "\n",
       "    .dataframe tbody tr th {\n",
       "        vertical-align: top;\n",
       "    }\n",
       "\n",
       "    .dataframe thead th {\n",
       "        text-align: right;\n",
       "    }\n",
       "</style>\n",
       "<table border=\"1\" class=\"dataframe\">\n",
       "  <thead>\n",
       "    <tr style=\"text-align: right;\">\n",
       "      <th></th>\n",
       "      <th>species_code</th>\n",
       "      <th>sci_name</th>\n",
       "      <th>primary_com_name</th>\n",
       "      <th>order</th>\n",
       "      <th>family</th>\n",
       "      <th>extinct</th>\n",
       "      <th>extinct_year</th>\n",
       "    </tr>\n",
       "  </thead>\n",
       "  <tbody>\n",
       "    <tr>\n",
       "      <th>0</th>\n",
       "      <td>scbtan2</td>\n",
       "      <td>Heterospingus xanthopygius</td>\n",
       "      <td>Scarlet-browed Tanager</td>\n",
       "      <td>Passeriformes</td>\n",
       "      <td>Thraupidae (Tanagers and Allies)</td>\n",
       "      <td>0</td>\n",
       "      <td>NaN</td>\n",
       "    </tr>\n",
       "    <tr>\n",
       "      <th>1</th>\n",
       "      <td>fabtan1</td>\n",
       "      <td>Pipraeidea melanonota</td>\n",
       "      <td>Fawn-breasted Tanager</td>\n",
       "      <td>Passeriformes</td>\n",
       "      <td>Thraupidae (Tanagers and Allies)</td>\n",
       "      <td>0</td>\n",
       "      <td>NaN</td>\n",
       "    </tr>\n",
       "    <tr>\n",
       "      <th>2</th>\n",
       "      <td>eurcoo</td>\n",
       "      <td>Fulica atra</td>\n",
       "      <td>Eurasian Coot</td>\n",
       "      <td>Gruiformes</td>\n",
       "      <td>Rallidae (Rails, Gallinules, and Coots)</td>\n",
       "      <td>0</td>\n",
       "      <td>NaN</td>\n",
       "    </tr>\n",
       "    <tr>\n",
       "      <th>3</th>\n",
       "      <td>cubgra</td>\n",
       "      <td>Tiaris canorus</td>\n",
       "      <td>Cuban Grassquit</td>\n",
       "      <td>Passeriformes</td>\n",
       "      <td>Thraupidae (Tanagers and Allies)</td>\n",
       "      <td>0</td>\n",
       "      <td>NaN</td>\n",
       "    </tr>\n",
       "    <tr>\n",
       "      <th>4</th>\n",
       "      <td>eurcur</td>\n",
       "      <td>Numenius arquata</td>\n",
       "      <td>Eurasian Curlew</td>\n",
       "      <td>Charadriiformes</td>\n",
       "      <td>Scolopacidae (Sandpipers and Allies)</td>\n",
       "      <td>0</td>\n",
       "      <td>NaN</td>\n",
       "    </tr>\n",
       "    <tr>\n",
       "      <th>...</th>\n",
       "      <td>...</td>\n",
       "      <td>...</td>\n",
       "      <td>...</td>\n",
       "      <td>...</td>\n",
       "      <td>...</td>\n",
       "      <td>...</td>\n",
       "      <td>...</td>\n",
       "    </tr>\n",
       "    <tr>\n",
       "      <th>15961</th>\n",
       "      <td>anteup4</td>\n",
       "      <td>Euphonia musica flavifrons</td>\n",
       "      <td>Antillean Euphonia (Lesser)</td>\n",
       "      <td>Passeriformes</td>\n",
       "      <td>Fringillidae (Finches, Euphonias, and Allies)</td>\n",
       "      <td>0</td>\n",
       "      <td>NaN</td>\n",
       "    </tr>\n",
       "    <tr>\n",
       "      <th>15962</th>\n",
       "      <td>reisee4</td>\n",
       "      <td>Crithagra reichardi reichardi</td>\n",
       "      <td>Reichard's Seedeater (Reichard's)</td>\n",
       "      <td>Passeriformes</td>\n",
       "      <td>Fringillidae (Finches, Euphonias, and Allies)</td>\n",
       "      <td>0</td>\n",
       "      <td>NaN</td>\n",
       "    </tr>\n",
       "    <tr>\n",
       "      <th>15963</th>\n",
       "      <td>mouser2</td>\n",
       "      <td>Chrysocorythus estherae [estherae Group]</td>\n",
       "      <td>Mountain Serin (Mountain)</td>\n",
       "      <td>Passeriformes</td>\n",
       "      <td>Fringillidae (Finches, Euphonias, and Allies)</td>\n",
       "      <td>0</td>\n",
       "      <td>NaN</td>\n",
       "    </tr>\n",
       "    <tr>\n",
       "      <th>15964</th>\n",
       "      <td>y01060</td>\n",
       "      <td>Serinus pusillus/serinus/syriacus</td>\n",
       "      <td>European/Fire-fronted/Syrian Serin</td>\n",
       "      <td>Passeriformes</td>\n",
       "      <td>Fringillidae (Finches, Euphonias, and Allies)</td>\n",
       "      <td>0</td>\n",
       "      <td>NaN</td>\n",
       "    </tr>\n",
       "    <tr>\n",
       "      <th>15965</th>\n",
       "      <td>katmaw2</td>\n",
       "      <td>Ploceus katangae katangae</td>\n",
       "      <td>Katanga Masked-Weaver (Katanga)</td>\n",
       "      <td>Passeriformes</td>\n",
       "      <td>Ploceidae (Weavers and Allies)</td>\n",
       "      <td>0</td>\n",
       "      <td>NaN</td>\n",
       "    </tr>\n",
       "  </tbody>\n",
       "</table>\n",
       "<p>15966 rows × 7 columns</p>\n",
       "</div>"
      ],
      "text/plain": [
       "      species_code                                  sci_name  \\\n",
       "0          scbtan2                Heterospingus xanthopygius   \n",
       "1          fabtan1                     Pipraeidea melanonota   \n",
       "2           eurcoo                               Fulica atra   \n",
       "3           cubgra                            Tiaris canorus   \n",
       "4           eurcur                          Numenius arquata   \n",
       "...            ...                                       ...   \n",
       "15961      anteup4                Euphonia musica flavifrons   \n",
       "15962      reisee4             Crithagra reichardi reichardi   \n",
       "15963      mouser2  Chrysocorythus estherae [estherae Group]   \n",
       "15964       y01060         Serinus pusillus/serinus/syriacus   \n",
       "15965      katmaw2                 Ploceus katangae katangae   \n",
       "\n",
       "                         primary_com_name            order  \\\n",
       "0                  Scarlet-browed Tanager    Passeriformes   \n",
       "1                   Fawn-breasted Tanager    Passeriformes   \n",
       "2                           Eurasian Coot       Gruiformes   \n",
       "3                         Cuban Grassquit    Passeriformes   \n",
       "4                         Eurasian Curlew  Charadriiformes   \n",
       "...                                   ...              ...   \n",
       "15961         Antillean Euphonia (Lesser)    Passeriformes   \n",
       "15962   Reichard's Seedeater (Reichard's)    Passeriformes   \n",
       "15963           Mountain Serin (Mountain)    Passeriformes   \n",
       "15964  European/Fire-fronted/Syrian Serin    Passeriformes   \n",
       "15965     Katanga Masked-Weaver (Katanga)    Passeriformes   \n",
       "\n",
       "                                              family  extinct  extinct_year  \n",
       "0                   Thraupidae (Tanagers and Allies)        0           NaN  \n",
       "1                   Thraupidae (Tanagers and Allies)        0           NaN  \n",
       "2            Rallidae (Rails, Gallinules, and Coots)        0           NaN  \n",
       "3                   Thraupidae (Tanagers and Allies)        0           NaN  \n",
       "4               Scolopacidae (Sandpipers and Allies)        0           NaN  \n",
       "...                                              ...      ...           ...  \n",
       "15961  Fringillidae (Finches, Euphonias, and Allies)        0           NaN  \n",
       "15962  Fringillidae (Finches, Euphonias, and Allies)        0           NaN  \n",
       "15963  Fringillidae (Finches, Euphonias, and Allies)        0           NaN  \n",
       "15964  Fringillidae (Finches, Euphonias, and Allies)        0           NaN  \n",
       "15965                 Ploceidae (Weavers and Allies)        0           NaN  \n",
       "\n",
       "[15966 rows x 7 columns]"
      ]
     },
     "execution_count": 38,
     "metadata": {},
     "output_type": "execute_result"
    }
   ],
   "source": [
    "data_dict_dim"
   ]
  },
  {
   "cell_type": "markdown",
   "id": "b04a8afe",
   "metadata": {},
   "source": [
    "### Migrate extinction info to its own table"
   ]
  },
  {
   "cell_type": "code",
   "execution_count": 39,
   "id": "435d81da",
   "metadata": {},
   "outputs": [],
   "source": [
    "extinct_species_dim = data_dict_dim.loc[data_dict_dim.extinct != 0][['species_code', 'extinct_year']].reset_index(drop=True)"
   ]
  },
  {
   "cell_type": "code",
   "execution_count": 40,
   "id": "2b2c059d",
   "metadata": {
    "scrolled": true
   },
   "outputs": [
    {
     "data": {
      "text/html": [
       "<div>\n",
       "<style scoped>\n",
       "    .dataframe tbody tr th:only-of-type {\n",
       "        vertical-align: middle;\n",
       "    }\n",
       "\n",
       "    .dataframe tbody tr th {\n",
       "        vertical-align: top;\n",
       "    }\n",
       "\n",
       "    .dataframe thead th {\n",
       "        text-align: right;\n",
       "    }\n",
       "</style>\n",
       "<table border=\"1\" class=\"dataframe\">\n",
       "  <thead>\n",
       "    <tr style=\"text-align: right;\">\n",
       "      <th></th>\n",
       "      <th>species_code</th>\n",
       "      <th>extinct_year</th>\n",
       "    </tr>\n",
       "  </thead>\n",
       "  <tbody>\n",
       "    <tr>\n",
       "      <th>0</th>\n",
       "      <td>guspet</td>\n",
       "      <td>1912.0</td>\n",
       "    </tr>\n",
       "    <tr>\n",
       "      <th>1</th>\n",
       "      <td>hawoo</td>\n",
       "      <td>1898.0</td>\n",
       "    </tr>\n",
       "    <tr>\n",
       "      <th>2</th>\n",
       "      <td>kakawa</td>\n",
       "      <td>1963.0</td>\n",
       "    </tr>\n",
       "    <tr>\n",
       "      <th>3</th>\n",
       "      <td>kioea</td>\n",
       "      <td>1900.0</td>\n",
       "    </tr>\n",
       "    <tr>\n",
       "      <th>4</th>\n",
       "      <td>kongro</td>\n",
       "      <td>1894.0</td>\n",
       "    </tr>\n",
       "    <tr>\n",
       "      <th>...</th>\n",
       "      <td>...</td>\n",
       "      <td>...</td>\n",
       "    </tr>\n",
       "    <tr>\n",
       "      <th>124</th>\n",
       "      <td>norgrd1</td>\n",
       "      <td>1800.0</td>\n",
       "    </tr>\n",
       "    <tr>\n",
       "      <th>125</th>\n",
       "      <td>braeme2</td>\n",
       "      <td>1877.0</td>\n",
       "    </tr>\n",
       "    <tr>\n",
       "      <th>126</th>\n",
       "      <td>soipio1</td>\n",
       "      <td>1897.0</td>\n",
       "    </tr>\n",
       "    <tr>\n",
       "      <th>127</th>\n",
       "      <td>braeme3</td>\n",
       "      <td>1860.0</td>\n",
       "    </tr>\n",
       "    <tr>\n",
       "      <th>128</th>\n",
       "      <td>noipio1</td>\n",
       "      <td>1902.0</td>\n",
       "    </tr>\n",
       "  </tbody>\n",
       "</table>\n",
       "<p>129 rows × 2 columns</p>\n",
       "</div>"
      ],
      "text/plain": [
       "    species_code  extinct_year\n",
       "0         guspet        1912.0\n",
       "1          hawoo        1898.0\n",
       "2         kakawa        1963.0\n",
       "3          kioea        1900.0\n",
       "4         kongro        1894.0\n",
       "..           ...           ...\n",
       "124      norgrd1        1800.0\n",
       "125      braeme2        1877.0\n",
       "126      soipio1        1897.0\n",
       "127      braeme3        1860.0\n",
       "128      noipio1        1902.0\n",
       "\n",
       "[129 rows x 2 columns]"
      ]
     },
     "execution_count": 40,
     "metadata": {},
     "output_type": "execute_result"
    }
   ],
   "source": [
    "extinct_species_dim"
   ]
  },
  {
   "cell_type": "code",
   "execution_count": 41,
   "id": "d51eb7a2",
   "metadata": {},
   "outputs": [
    {
     "data": {
      "text/html": [
       "<div>\n",
       "<style scoped>\n",
       "    .dataframe tbody tr th:only-of-type {\n",
       "        vertical-align: middle;\n",
       "    }\n",
       "\n",
       "    .dataframe tbody tr th {\n",
       "        vertical-align: top;\n",
       "    }\n",
       "\n",
       "    .dataframe thead th {\n",
       "        text-align: right;\n",
       "    }\n",
       "</style>\n",
       "<table border=\"1\" class=\"dataframe\">\n",
       "  <thead>\n",
       "    <tr style=\"text-align: right;\">\n",
       "      <th></th>\n",
       "      <th>species_code</th>\n",
       "      <th>extinct_year</th>\n",
       "    </tr>\n",
       "  </thead>\n",
       "  <tbody>\n",
       "    <tr>\n",
       "      <th>0</th>\n",
       "      <td>agurew1</td>\n",
       "      <td>1995</td>\n",
       "    </tr>\n",
       "    <tr>\n",
       "      <th>1</th>\n",
       "      <td>akepa2</td>\n",
       "      <td>1900</td>\n",
       "    </tr>\n",
       "    <tr>\n",
       "      <th>2</th>\n",
       "      <td>alagre1</td>\n",
       "      <td>1950</td>\n",
       "    </tr>\n",
       "    <tr>\n",
       "      <th>3</th>\n",
       "      <td>amaui</td>\n",
       "      <td>1825</td>\n",
       "    </tr>\n",
       "    <tr>\n",
       "      <th>4</th>\n",
       "      <td>apapan2</td>\n",
       "      <td>1923</td>\n",
       "    </tr>\n",
       "    <tr>\n",
       "      <th>...</th>\n",
       "      <td>...</td>\n",
       "      <td>...</td>\n",
       "    </tr>\n",
       "    <tr>\n",
       "      <th>124</th>\n",
       "      <td>trimoo2</td>\n",
       "      <td>1900</td>\n",
       "    </tr>\n",
       "    <tr>\n",
       "      <th>125</th>\n",
       "      <td>ulahaw</td>\n",
       "      <td>1937</td>\n",
       "    </tr>\n",
       "    <tr>\n",
       "      <th>126</th>\n",
       "      <td>verfly8</td>\n",
       "      <td>1987</td>\n",
       "    </tr>\n",
       "    <tr>\n",
       "      <th>127</th>\n",
       "      <td>wairai1</td>\n",
       "      <td>1944</td>\n",
       "    </tr>\n",
       "    <tr>\n",
       "      <th>128</th>\n",
       "      <td>whwsan1</td>\n",
       "      <td>1790</td>\n",
       "    </tr>\n",
       "  </tbody>\n",
       "</table>\n",
       "<p>129 rows × 2 columns</p>\n",
       "</div>"
      ],
      "text/plain": [
       "    species_code  extinct_year\n",
       "0        agurew1          1995\n",
       "1         akepa2          1900\n",
       "2        alagre1          1950\n",
       "3          amaui          1825\n",
       "4        apapan2          1923\n",
       "..           ...           ...\n",
       "124      trimoo2          1900\n",
       "125       ulahaw          1937\n",
       "126      verfly8          1987\n",
       "127      wairai1          1944\n",
       "128      whwsan1          1790\n",
       "\n",
       "[129 rows x 2 columns]"
      ]
     },
     "execution_count": 41,
     "metadata": {},
     "output_type": "execute_result"
    }
   ],
   "source": [
    "extinct_species_dim.extinct_year = extinct_species_dim.extinct_year.fillna(-1)\n",
    "extinct_species_dim = extinct_species_dim.astype({'extinct_year': 'int32'})\n",
    "extinct_species_dim = extinct_species_dim.sort_values(by='species_code').reset_index(drop=True)\n",
    "extinct_species_dim"
   ]
  },
  {
   "cell_type": "markdown",
   "id": "7d462eb3",
   "metadata": {},
   "source": [
    "#### Remove redundant columns"
   ]
  },
  {
   "cell_type": "code",
   "execution_count": 42,
   "id": "bc061930",
   "metadata": {},
   "outputs": [
    {
     "data": {
      "text/html": [
       "<div>\n",
       "<style scoped>\n",
       "    .dataframe tbody tr th:only-of-type {\n",
       "        vertical-align: middle;\n",
       "    }\n",
       "\n",
       "    .dataframe tbody tr th {\n",
       "        vertical-align: top;\n",
       "    }\n",
       "\n",
       "    .dataframe thead th {\n",
       "        text-align: right;\n",
       "    }\n",
       "</style>\n",
       "<table border=\"1\" class=\"dataframe\">\n",
       "  <thead>\n",
       "    <tr style=\"text-align: right;\">\n",
       "      <th></th>\n",
       "      <th>species_code</th>\n",
       "      <th>sci_name</th>\n",
       "      <th>primary_com_name</th>\n",
       "      <th>order</th>\n",
       "      <th>family</th>\n",
       "    </tr>\n",
       "  </thead>\n",
       "  <tbody>\n",
       "    <tr>\n",
       "      <th>0</th>\n",
       "      <td>emchum1</td>\n",
       "      <td>Abeillia abeillei</td>\n",
       "      <td>Emerald-chinned Hummingbird</td>\n",
       "      <td>Caprimulgiformes</td>\n",
       "      <td>Trochilidae (Hummingbirds)</td>\n",
       "    </tr>\n",
       "    <tr>\n",
       "      <th>1</th>\n",
       "      <td>rufwar1</td>\n",
       "      <td>Abroscopus albogularis</td>\n",
       "      <td>Rufous-faced Warbler</td>\n",
       "      <td>Passeriformes</td>\n",
       "      <td>Scotocercidae (Bush Warblers and Allies)</td>\n",
       "    </tr>\n",
       "    <tr>\n",
       "      <th>2</th>\n",
       "      <td>blfwar1</td>\n",
       "      <td>Abroscopus schisticeps</td>\n",
       "      <td>Black-faced Warbler</td>\n",
       "      <td>Passeriformes</td>\n",
       "      <td>Scotocercidae (Bush Warblers and Allies)</td>\n",
       "    </tr>\n",
       "    <tr>\n",
       "      <th>3</th>\n",
       "      <td>yebwar1</td>\n",
       "      <td>Abroscopus superciliaris</td>\n",
       "      <td>Yellow-bellied Warbler</td>\n",
       "      <td>Passeriformes</td>\n",
       "      <td>Scotocercidae (Bush Warblers and Allies)</td>\n",
       "    </tr>\n",
       "    <tr>\n",
       "      <th>4</th>\n",
       "      <td>watgua1</td>\n",
       "      <td>Aburria aburri</td>\n",
       "      <td>Wattled Guan</td>\n",
       "      <td>Galliformes</td>\n",
       "      <td>Cracidae (Guans, Chachalacas, and Curassows)</td>\n",
       "    </tr>\n",
       "    <tr>\n",
       "      <th>...</th>\n",
       "      <td>...</td>\n",
       "      <td>...</td>\n",
       "      <td>...</td>\n",
       "      <td>...</td>\n",
       "      <td>...</td>\n",
       "    </tr>\n",
       "    <tr>\n",
       "      <th>15961</th>\n",
       "      <td>pasbab1</td>\n",
       "      <td>Zosterornis hypogrammicus</td>\n",
       "      <td>Palawan Striped-Babbler</td>\n",
       "      <td>Passeriformes</td>\n",
       "      <td>Zosteropidae (White-eyes, Yuhinas, and Allies)</td>\n",
       "    </tr>\n",
       "    <tr>\n",
       "      <th>15962</th>\n",
       "      <td>pasbab2</td>\n",
       "      <td>Zosterornis latistriatus</td>\n",
       "      <td>Panay Striped-Babbler</td>\n",
       "      <td>Passeriformes</td>\n",
       "      <td>Zosteropidae (White-eyes, Yuhinas, and Allies)</td>\n",
       "    </tr>\n",
       "    <tr>\n",
       "      <th>15963</th>\n",
       "      <td>nesbab1</td>\n",
       "      <td>Zosterornis nigrorum</td>\n",
       "      <td>Negros Striped-Babbler</td>\n",
       "      <td>Passeriformes</td>\n",
       "      <td>Zosteropidae (White-eyes, Yuhinas, and Allies)</td>\n",
       "    </tr>\n",
       "    <tr>\n",
       "      <th>15964</th>\n",
       "      <td>lusbab1</td>\n",
       "      <td>Zosterornis striatus</td>\n",
       "      <td>Luzon Striped-Babbler</td>\n",
       "      <td>Passeriformes</td>\n",
       "      <td>Zosteropidae (White-eyes, Yuhinas, and Allies)</td>\n",
       "    </tr>\n",
       "    <tr>\n",
       "      <th>15965</th>\n",
       "      <td>chfbab1</td>\n",
       "      <td>Zosterornis whiteheadi</td>\n",
       "      <td>Chestnut-faced Babbler</td>\n",
       "      <td>Passeriformes</td>\n",
       "      <td>Zosteropidae (White-eyes, Yuhinas, and Allies)</td>\n",
       "    </tr>\n",
       "  </tbody>\n",
       "</table>\n",
       "<p>15966 rows × 5 columns</p>\n",
       "</div>"
      ],
      "text/plain": [
       "      species_code                   sci_name             primary_com_name  \\\n",
       "0          emchum1          Abeillia abeillei  Emerald-chinned Hummingbird   \n",
       "1          rufwar1     Abroscopus albogularis         Rufous-faced Warbler   \n",
       "2          blfwar1     Abroscopus schisticeps          Black-faced Warbler   \n",
       "3          yebwar1   Abroscopus superciliaris       Yellow-bellied Warbler   \n",
       "4          watgua1             Aburria aburri                 Wattled Guan   \n",
       "...            ...                        ...                          ...   \n",
       "15961      pasbab1  Zosterornis hypogrammicus      Palawan Striped-Babbler   \n",
       "15962      pasbab2   Zosterornis latistriatus        Panay Striped-Babbler   \n",
       "15963      nesbab1       Zosterornis nigrorum       Negros Striped-Babbler   \n",
       "15964      lusbab1       Zosterornis striatus        Luzon Striped-Babbler   \n",
       "15965      chfbab1     Zosterornis whiteheadi       Chestnut-faced Babbler   \n",
       "\n",
       "                  order                                          family  \n",
       "0      Caprimulgiformes                      Trochilidae (Hummingbirds)  \n",
       "1         Passeriformes        Scotocercidae (Bush Warblers and Allies)  \n",
       "2         Passeriformes        Scotocercidae (Bush Warblers and Allies)  \n",
       "3         Passeriformes        Scotocercidae (Bush Warblers and Allies)  \n",
       "4           Galliformes    Cracidae (Guans, Chachalacas, and Curassows)  \n",
       "...                 ...                                             ...  \n",
       "15961     Passeriformes  Zosteropidae (White-eyes, Yuhinas, and Allies)  \n",
       "15962     Passeriformes  Zosteropidae (White-eyes, Yuhinas, and Allies)  \n",
       "15963     Passeriformes  Zosteropidae (White-eyes, Yuhinas, and Allies)  \n",
       "15964     Passeriformes  Zosteropidae (White-eyes, Yuhinas, and Allies)  \n",
       "15965     Passeriformes  Zosteropidae (White-eyes, Yuhinas, and Allies)  \n",
       "\n",
       "[15966 rows x 5 columns]"
      ]
     },
     "execution_count": 42,
     "metadata": {},
     "output_type": "execute_result"
    }
   ],
   "source": [
    "data_dict_dim = data_dict_dim.loc[:, 'species_code':'family']\n",
    "data_dict_dim = data_dict_dim.sort_values(by='sci_name').reset_index(drop=True)\n",
    "data_dict_dim"
   ]
  },
  {
   "cell_type": "markdown",
   "id": "f41321e7",
   "metadata": {},
   "source": [
    "### Create a Family Subgroups dimension table to futher reduce redundancy"
   ]
  },
  {
   "cell_type": "code",
   "execution_count": 43,
   "id": "fc027812",
   "metadata": {},
   "outputs": [],
   "source": [
    "data_dict_dim = data_dict_dim.fillna('NaN')"
   ]
  },
  {
   "cell_type": "code",
   "execution_count": 44,
   "id": "6df72393",
   "metadata": {},
   "outputs": [],
   "source": [
    "family_list = sorted(data_dict_dim.family.unique().tolist())"
   ]
  },
  {
   "cell_type": "code",
   "execution_count": 45,
   "id": "9bd6512c",
   "metadata": {},
   "outputs": [],
   "source": [
    "family_dict = {}\n",
    "for family in family_list:\n",
    "    if family != 'NaN':\n",
    "        name = family.split('(')[0].strip()\n",
    "        types = family.split('(')[1][:-1]\n",
    "        family_dict[name] = types"
   ]
  },
  {
   "cell_type": "code",
   "execution_count": 46,
   "id": "01a3cfc5",
   "metadata": {},
   "outputs": [
    {
     "data": {
      "text/html": [
       "<div>\n",
       "<style scoped>\n",
       "    .dataframe tbody tr th:only-of-type {\n",
       "        vertical-align: middle;\n",
       "    }\n",
       "\n",
       "    .dataframe tbody tr th {\n",
       "        vertical-align: top;\n",
       "    }\n",
       "\n",
       "    .dataframe thead th {\n",
       "        text-align: right;\n",
       "    }\n",
       "</style>\n",
       "<table border=\"1\" class=\"dataframe\">\n",
       "  <thead>\n",
       "    <tr style=\"text-align: right;\">\n",
       "      <th></th>\n",
       "      <th>family</th>\n",
       "      <th>subgroups</th>\n",
       "    </tr>\n",
       "  </thead>\n",
       "  <tbody>\n",
       "    <tr>\n",
       "      <th>0</th>\n",
       "      <td>Acanthisittidae</td>\n",
       "      <td>New Zealand Wrens</td>\n",
       "    </tr>\n",
       "    <tr>\n",
       "      <th>1</th>\n",
       "      <td>Acanthizidae</td>\n",
       "      <td>Thornbills and Allies</td>\n",
       "    </tr>\n",
       "    <tr>\n",
       "      <th>2</th>\n",
       "      <td>Accipitridae</td>\n",
       "      <td>Hawks, Eagles, and Kites</td>\n",
       "    </tr>\n",
       "    <tr>\n",
       "      <th>3</th>\n",
       "      <td>Acrocephalidae</td>\n",
       "      <td>Reed Warblers and Allies</td>\n",
       "    </tr>\n",
       "    <tr>\n",
       "      <th>4</th>\n",
       "      <td>Aegithalidae</td>\n",
       "      <td>Long-tailed Tits</td>\n",
       "    </tr>\n",
       "    <tr>\n",
       "      <th>...</th>\n",
       "      <td>...</td>\n",
       "      <td>...</td>\n",
       "    </tr>\n",
       "    <tr>\n",
       "      <th>244</th>\n",
       "      <td>Vangidae</td>\n",
       "      <td>Vangas, Helmetshrikes, and Allies</td>\n",
       "    </tr>\n",
       "    <tr>\n",
       "      <th>245</th>\n",
       "      <td>Viduidae</td>\n",
       "      <td>Indigobirds</td>\n",
       "    </tr>\n",
       "    <tr>\n",
       "      <th>246</th>\n",
       "      <td>Vireonidae</td>\n",
       "      <td>Vireos, Shrike-Babblers, and Erpornis</td>\n",
       "    </tr>\n",
       "    <tr>\n",
       "      <th>247</th>\n",
       "      <td>Zeledoniidae</td>\n",
       "      <td>Wrenthrush</td>\n",
       "    </tr>\n",
       "    <tr>\n",
       "      <th>248</th>\n",
       "      <td>Zosteropidae</td>\n",
       "      <td>White-eyes, Yuhinas, and Allies</td>\n",
       "    </tr>\n",
       "  </tbody>\n",
       "</table>\n",
       "<p>249 rows × 2 columns</p>\n",
       "</div>"
      ],
      "text/plain": [
       "              family                              subgroups\n",
       "0    Acanthisittidae                      New Zealand Wrens\n",
       "1       Acanthizidae                  Thornbills and Allies\n",
       "2       Accipitridae               Hawks, Eagles, and Kites\n",
       "3     Acrocephalidae               Reed Warblers and Allies\n",
       "4       Aegithalidae                       Long-tailed Tits\n",
       "..               ...                                    ...\n",
       "244         Vangidae      Vangas, Helmetshrikes, and Allies\n",
       "245         Viduidae                            Indigobirds\n",
       "246       Vireonidae  Vireos, Shrike-Babblers, and Erpornis\n",
       "247     Zeledoniidae                             Wrenthrush\n",
       "248     Zosteropidae        White-eyes, Yuhinas, and Allies\n",
       "\n",
       "[249 rows x 2 columns]"
      ]
     },
     "execution_count": 46,
     "metadata": {},
     "output_type": "execute_result"
    }
   ],
   "source": [
    "family_subgroups_dim = pd.DataFrame.from_dict(family_dict, orient='index', columns=['subgroups'])\n",
    "family_subgroups_dim = family_subgroups_dim.reset_index().rename(columns={'index':'family'})\n",
    "family_subgroups_dim"
   ]
  },
  {
   "cell_type": "markdown",
   "id": "f8974b24",
   "metadata": {},
   "source": [
    "#### Remove redundant text"
   ]
  },
  {
   "cell_type": "code",
   "execution_count": 47,
   "id": "85a39c8e",
   "metadata": {},
   "outputs": [],
   "source": [
    "data_dict_dim.family = data_dict_dim.family.replace(to_replace=' \\(.*\\)', value='', regex=True)"
   ]
  },
  {
   "cell_type": "code",
   "execution_count": 48,
   "id": "d324f3b6",
   "metadata": {
    "scrolled": true
   },
   "outputs": [
    {
     "data": {
      "text/html": [
       "<div>\n",
       "<style scoped>\n",
       "    .dataframe tbody tr th:only-of-type {\n",
       "        vertical-align: middle;\n",
       "    }\n",
       "\n",
       "    .dataframe tbody tr th {\n",
       "        vertical-align: top;\n",
       "    }\n",
       "\n",
       "    .dataframe thead th {\n",
       "        text-align: right;\n",
       "    }\n",
       "</style>\n",
       "<table border=\"1\" class=\"dataframe\">\n",
       "  <thead>\n",
       "    <tr style=\"text-align: right;\">\n",
       "      <th></th>\n",
       "      <th>species_code</th>\n",
       "      <th>sci_name</th>\n",
       "      <th>primary_com_name</th>\n",
       "      <th>order</th>\n",
       "      <th>family</th>\n",
       "    </tr>\n",
       "  </thead>\n",
       "  <tbody>\n",
       "    <tr>\n",
       "      <th>0</th>\n",
       "      <td>emchum1</td>\n",
       "      <td>Abeillia abeillei</td>\n",
       "      <td>Emerald-chinned Hummingbird</td>\n",
       "      <td>Caprimulgiformes</td>\n",
       "      <td>Trochilidae</td>\n",
       "    </tr>\n",
       "    <tr>\n",
       "      <th>1</th>\n",
       "      <td>rufwar1</td>\n",
       "      <td>Abroscopus albogularis</td>\n",
       "      <td>Rufous-faced Warbler</td>\n",
       "      <td>Passeriformes</td>\n",
       "      <td>Scotocercidae</td>\n",
       "    </tr>\n",
       "    <tr>\n",
       "      <th>2</th>\n",
       "      <td>blfwar1</td>\n",
       "      <td>Abroscopus schisticeps</td>\n",
       "      <td>Black-faced Warbler</td>\n",
       "      <td>Passeriformes</td>\n",
       "      <td>Scotocercidae</td>\n",
       "    </tr>\n",
       "    <tr>\n",
       "      <th>3</th>\n",
       "      <td>yebwar1</td>\n",
       "      <td>Abroscopus superciliaris</td>\n",
       "      <td>Yellow-bellied Warbler</td>\n",
       "      <td>Passeriformes</td>\n",
       "      <td>Scotocercidae</td>\n",
       "    </tr>\n",
       "    <tr>\n",
       "      <th>4</th>\n",
       "      <td>watgua1</td>\n",
       "      <td>Aburria aburri</td>\n",
       "      <td>Wattled Guan</td>\n",
       "      <td>Galliformes</td>\n",
       "      <td>Cracidae</td>\n",
       "    </tr>\n",
       "    <tr>\n",
       "      <th>...</th>\n",
       "      <td>...</td>\n",
       "      <td>...</td>\n",
       "      <td>...</td>\n",
       "      <td>...</td>\n",
       "      <td>...</td>\n",
       "    </tr>\n",
       "    <tr>\n",
       "      <th>15961</th>\n",
       "      <td>pasbab1</td>\n",
       "      <td>Zosterornis hypogrammicus</td>\n",
       "      <td>Palawan Striped-Babbler</td>\n",
       "      <td>Passeriformes</td>\n",
       "      <td>Zosteropidae</td>\n",
       "    </tr>\n",
       "    <tr>\n",
       "      <th>15962</th>\n",
       "      <td>pasbab2</td>\n",
       "      <td>Zosterornis latistriatus</td>\n",
       "      <td>Panay Striped-Babbler</td>\n",
       "      <td>Passeriformes</td>\n",
       "      <td>Zosteropidae</td>\n",
       "    </tr>\n",
       "    <tr>\n",
       "      <th>15963</th>\n",
       "      <td>nesbab1</td>\n",
       "      <td>Zosterornis nigrorum</td>\n",
       "      <td>Negros Striped-Babbler</td>\n",
       "      <td>Passeriformes</td>\n",
       "      <td>Zosteropidae</td>\n",
       "    </tr>\n",
       "    <tr>\n",
       "      <th>15964</th>\n",
       "      <td>lusbab1</td>\n",
       "      <td>Zosterornis striatus</td>\n",
       "      <td>Luzon Striped-Babbler</td>\n",
       "      <td>Passeriformes</td>\n",
       "      <td>Zosteropidae</td>\n",
       "    </tr>\n",
       "    <tr>\n",
       "      <th>15965</th>\n",
       "      <td>chfbab1</td>\n",
       "      <td>Zosterornis whiteheadi</td>\n",
       "      <td>Chestnut-faced Babbler</td>\n",
       "      <td>Passeriformes</td>\n",
       "      <td>Zosteropidae</td>\n",
       "    </tr>\n",
       "  </tbody>\n",
       "</table>\n",
       "<p>15966 rows × 5 columns</p>\n",
       "</div>"
      ],
      "text/plain": [
       "      species_code                   sci_name             primary_com_name  \\\n",
       "0          emchum1          Abeillia abeillei  Emerald-chinned Hummingbird   \n",
       "1          rufwar1     Abroscopus albogularis         Rufous-faced Warbler   \n",
       "2          blfwar1     Abroscopus schisticeps          Black-faced Warbler   \n",
       "3          yebwar1   Abroscopus superciliaris       Yellow-bellied Warbler   \n",
       "4          watgua1             Aburria aburri                 Wattled Guan   \n",
       "...            ...                        ...                          ...   \n",
       "15961      pasbab1  Zosterornis hypogrammicus      Palawan Striped-Babbler   \n",
       "15962      pasbab2   Zosterornis latistriatus        Panay Striped-Babbler   \n",
       "15963      nesbab1       Zosterornis nigrorum       Negros Striped-Babbler   \n",
       "15964      lusbab1       Zosterornis striatus        Luzon Striped-Babbler   \n",
       "15965      chfbab1     Zosterornis whiteheadi       Chestnut-faced Babbler   \n",
       "\n",
       "                  order         family  \n",
       "0      Caprimulgiformes    Trochilidae  \n",
       "1         Passeriformes  Scotocercidae  \n",
       "2         Passeriformes  Scotocercidae  \n",
       "3         Passeriformes  Scotocercidae  \n",
       "4           Galliformes       Cracidae  \n",
       "...                 ...            ...  \n",
       "15961     Passeriformes   Zosteropidae  \n",
       "15962     Passeriformes   Zosteropidae  \n",
       "15963     Passeriformes   Zosteropidae  \n",
       "15964     Passeriformes   Zosteropidae  \n",
       "15965     Passeriformes   Zosteropidae  \n",
       "\n",
       "[15966 rows x 5 columns]"
      ]
     },
     "execution_count": 48,
     "metadata": {},
     "output_type": "execute_result"
    }
   ],
   "source": [
    "data_dict_dim"
   ]
  },
  {
   "cell_type": "markdown",
   "id": "34f4bd44",
   "metadata": {},
   "source": [
    "### Export Tables as CSVs"
   ]
  },
  {
   "cell_type": "code",
   "execution_count": 57,
   "id": "16f9798d",
   "metadata": {},
   "outputs": [],
   "source": [
    "data_dict_dim.to_csv('../data/data_dict_dim.csv', index=False)"
   ]
  },
  {
   "cell_type": "code",
   "execution_count": 58,
   "id": "ad696944",
   "metadata": {},
   "outputs": [],
   "source": [
    "family_subgroups_dim.to_csv('../data/family_subgroups_dim.csv', index=False)"
   ]
  },
  {
   "cell_type": "code",
   "execution_count": 59,
   "id": "04e6dd30",
   "metadata": {},
   "outputs": [],
   "source": [
    "extinct_species_dim.to_csv('../data/extinct_species_dim.csv', index=False)"
   ]
  },
  {
   "cell_type": "code",
   "execution_count": 60,
   "id": "676e3b4c",
   "metadata": {},
   "outputs": [],
   "source": [
    "effort_dim.to_csv('../data/effort_dim.csv', index=False)"
   ]
  },
  {
   "cell_type": "code",
   "execution_count": 61,
   "id": "7cfd3d8a",
   "metadata": {},
   "outputs": [],
   "source": [
    "entry_methods_dim.to_csv('../data/entry_methods_dim.csv', index=False)"
   ]
  },
  {
   "cell_type": "code",
   "execution_count": 62,
   "id": "d3fb7f5c",
   "metadata": {},
   "outputs": [],
   "source": [
    "pfw_df_1988_2021.to_csv('../data/observations_fact.csv', index=False)"
   ]
  },
  {
   "cell_type": "code",
   "execution_count": 190,
   "id": "2a8c0a07",
   "metadata": {},
   "outputs": [
    {
     "data": {
      "text/html": [
       "<div>\n",
       "<style scoped>\n",
       "    .dataframe tbody tr th:only-of-type {\n",
       "        vertical-align: middle;\n",
       "    }\n",
       "\n",
       "    .dataframe tbody tr th {\n",
       "        vertical-align: top;\n",
       "    }\n",
       "\n",
       "    .dataframe thead th {\n",
       "        text-align: right;\n",
       "    }\n",
       "</style>\n",
       "<table border=\"1\" class=\"dataframe\">\n",
       "  <thead>\n",
       "    <tr style=\"text-align: right;\">\n",
       "      <th></th>\n",
       "      <th>obs_id</th>\n",
       "      <th>sub_id</th>\n",
       "      <th>proj_period_id</th>\n",
       "      <th>month</th>\n",
       "      <th>day</th>\n",
       "      <th>year</th>\n",
       "      <th>species_code</th>\n",
       "      <th>how_many</th>\n",
       "      <th>day1_am</th>\n",
       "      <th>day1_pm</th>\n",
       "      <th>day2_am</th>\n",
       "      <th>day2_pm</th>\n",
       "      <th>effort_id</th>\n",
       "      <th>snow_dep_atleast</th>\n",
       "      <th>entry_id</th>\n",
       "      <th>state</th>\n",
       "      <th>loc_id</th>\n",
       "      <th>latitude</th>\n",
       "      <th>longitude</th>\n",
       "    </tr>\n",
       "  </thead>\n",
       "  <tbody>\n",
       "    <tr>\n",
       "      <th>0</th>\n",
       "      <td>OBS4781763</td>\n",
       "      <td>S338425</td>\n",
       "      <td>PFW_1995</td>\n",
       "      <td>12</td>\n",
       "      <td>17</td>\n",
       "      <td>1994</td>\n",
       "      <td>blujay</td>\n",
       "      <td>1</td>\n",
       "      <td>0</td>\n",
       "      <td>1</td>\n",
       "      <td>1</td>\n",
       "      <td>1</td>\n",
       "      <td>1</td>\n",
       "      <td>0.0</td>\n",
       "      <td>paper</td>\n",
       "      <td>AR</td>\n",
       "      <td>L20416</td>\n",
       "      <td>35.02262</td>\n",
       "      <td>-93.47239</td>\n",
       "    </tr>\n",
       "    <tr>\n",
       "      <th>1</th>\n",
       "      <td>OBS4781764</td>\n",
       "      <td>S338425</td>\n",
       "      <td>PFW_1995</td>\n",
       "      <td>12</td>\n",
       "      <td>17</td>\n",
       "      <td>1994</td>\n",
       "      <td>brnthr</td>\n",
       "      <td>1</td>\n",
       "      <td>0</td>\n",
       "      <td>1</td>\n",
       "      <td>1</td>\n",
       "      <td>1</td>\n",
       "      <td>1</td>\n",
       "      <td>0.0</td>\n",
       "      <td>paper</td>\n",
       "      <td>AR</td>\n",
       "      <td>L20416</td>\n",
       "      <td>35.02262</td>\n",
       "      <td>-93.47239</td>\n",
       "    </tr>\n",
       "    <tr>\n",
       "      <th>2</th>\n",
       "      <td>OBS5488036</td>\n",
       "      <td>S338425</td>\n",
       "      <td>PFW_1995</td>\n",
       "      <td>12</td>\n",
       "      <td>17</td>\n",
       "      <td>1994</td>\n",
       "      <td>carchi</td>\n",
       "      <td>2</td>\n",
       "      <td>0</td>\n",
       "      <td>1</td>\n",
       "      <td>1</td>\n",
       "      <td>1</td>\n",
       "      <td>1</td>\n",
       "      <td>0.0</td>\n",
       "      <td>paper</td>\n",
       "      <td>AR</td>\n",
       "      <td>L20416</td>\n",
       "      <td>35.02262</td>\n",
       "      <td>-93.47239</td>\n",
       "    </tr>\n",
       "    <tr>\n",
       "      <th>3</th>\n",
       "      <td>OBS7279835</td>\n",
       "      <td>S338425</td>\n",
       "      <td>PFW_1995</td>\n",
       "      <td>12</td>\n",
       "      <td>17</td>\n",
       "      <td>1994</td>\n",
       "      <td>haiwoo</td>\n",
       "      <td>1</td>\n",
       "      <td>0</td>\n",
       "      <td>1</td>\n",
       "      <td>1</td>\n",
       "      <td>1</td>\n",
       "      <td>1</td>\n",
       "      <td>0.0</td>\n",
       "      <td>paper</td>\n",
       "      <td>AR</td>\n",
       "      <td>L20416</td>\n",
       "      <td>35.02262</td>\n",
       "      <td>-93.47239</td>\n",
       "    </tr>\n",
       "    <tr>\n",
       "      <th>4</th>\n",
       "      <td>OBS7279836</td>\n",
       "      <td>S338425</td>\n",
       "      <td>PFW_1995</td>\n",
       "      <td>12</td>\n",
       "      <td>17</td>\n",
       "      <td>1994</td>\n",
       "      <td>houspa</td>\n",
       "      <td>3</td>\n",
       "      <td>0</td>\n",
       "      <td>1</td>\n",
       "      <td>1</td>\n",
       "      <td>1</td>\n",
       "      <td>1</td>\n",
       "      <td>0.0</td>\n",
       "      <td>paper</td>\n",
       "      <td>AR</td>\n",
       "      <td>L20416</td>\n",
       "      <td>35.02262</td>\n",
       "      <td>-93.47239</td>\n",
       "    </tr>\n",
       "  </tbody>\n",
       "</table>\n",
       "</div>"
      ],
      "text/plain": [
       "       obs_id   sub_id proj_period_id  month  day  year species_code  \\\n",
       "0  OBS4781763  S338425       PFW_1995     12   17  1994       blujay   \n",
       "1  OBS4781764  S338425       PFW_1995     12   17  1994       brnthr   \n",
       "2  OBS5488036  S338425       PFW_1995     12   17  1994       carchi   \n",
       "3  OBS7279835  S338425       PFW_1995     12   17  1994       haiwoo   \n",
       "4  OBS7279836  S338425       PFW_1995     12   17  1994       houspa   \n",
       "\n",
       "   how_many  day1_am  day1_pm  day2_am  day2_pm  effort_id  snow_dep_atleast  \\\n",
       "0         1        0        1        1        1          1               0.0   \n",
       "1         1        0        1        1        1          1               0.0   \n",
       "2         2        0        1        1        1          1               0.0   \n",
       "3         1        0        1        1        1          1               0.0   \n",
       "4         3        0        1        1        1          1               0.0   \n",
       "\n",
       "  entry_id state  loc_id  latitude  longitude  \n",
       "0    paper    AR  L20416  35.02262  -93.47239  \n",
       "1    paper    AR  L20416  35.02262  -93.47239  \n",
       "2    paper    AR  L20416  35.02262  -93.47239  \n",
       "3    paper    AR  L20416  35.02262  -93.47239  \n",
       "4    paper    AR  L20416  35.02262  -93.47239  "
      ]
     },
     "execution_count": 190,
     "metadata": {},
     "output_type": "execute_result"
    }
   ],
   "source": [
    "pfw_df_1988_2021.head()"
   ]
  },
  {
   "cell_type": "code",
   "execution_count": 65,
   "id": "39b7e641",
   "metadata": {},
   "outputs": [
    {
     "data": {
      "text/plain": [
       "[0.0, 1.0, nan]"
      ]
     },
     "execution_count": 65,
     "metadata": {},
     "output_type": "execute_result"
    }
   ],
   "source": [
    "pfw_df_1988_2021.day1_am.unique().tolist()"
   ]
  },
  {
   "cell_type": "code",
   "execution_count": 66,
   "id": "75f777fe",
   "metadata": {},
   "outputs": [
    {
     "data": {
      "text/plain": [
       "[1.0, 0.0, nan]"
      ]
     },
     "execution_count": 66,
     "metadata": {},
     "output_type": "execute_result"
    }
   ],
   "source": [
    "pfw_df_1988_2021.day1_pm.unique().tolist()"
   ]
  },
  {
   "cell_type": "code",
   "execution_count": 67,
   "id": "6c153f3b",
   "metadata": {},
   "outputs": [
    {
     "data": {
      "text/plain": [
       "[1.0, nan, 0.0]"
      ]
     },
     "execution_count": 67,
     "metadata": {},
     "output_type": "execute_result"
    }
   ],
   "source": [
    "pfw_df_1988_2021.day2_am.unique().tolist()"
   ]
  },
  {
   "cell_type": "code",
   "execution_count": 68,
   "id": "c5a57699",
   "metadata": {},
   "outputs": [
    {
     "data": {
      "text/plain": [
       "[1.0, 0.0, nan]"
      ]
     },
     "execution_count": 68,
     "metadata": {},
     "output_type": "execute_result"
    }
   ],
   "source": [
    "pfw_df_1988_2021.day2_pm.unique().tolist()"
   ]
  },
  {
   "cell_type": "code",
   "execution_count": 79,
   "id": "27f6abef",
   "metadata": {},
   "outputs": [
    {
     "data": {
      "text/plain": [
       "obs_id               object\n",
       "sub_id               object\n",
       "proj_period_id       object\n",
       "month                 int64\n",
       "day                   int64\n",
       "year                  int64\n",
       "species_code         object\n",
       "how_many              int64\n",
       "day1_am             float64\n",
       "day1_pm             float64\n",
       "day2_am             float64\n",
       "day2_pm             float64\n",
       "effort_id           float64\n",
       "snow_dep_atleast    float64\n",
       "entry_id              int64\n",
       "state                object\n",
       "loc_id               object\n",
       "latitude            float64\n",
       "longitude           float64\n",
       "dtype: object"
      ]
     },
     "execution_count": 79,
     "metadata": {},
     "output_type": "execute_result"
    }
   ],
   "source": [
    "pfw_df_1988_2021.dtypes"
   ]
  },
  {
   "cell_type": "code",
   "execution_count": null,
   "id": "d8777ebf",
   "metadata": {},
   "outputs": [],
   "source": []
  }
 ],
 "metadata": {
  "kernelspec": {
   "display_name": "Python 3 (ipykernel)",
   "language": "python",
   "name": "python3"
  },
  "language_info": {
   "codemirror_mode": {
    "name": "ipython",
    "version": 3
   },
   "file_extension": ".py",
   "mimetype": "text/x-python",
   "name": "python",
   "nbconvert_exporter": "python",
   "pygments_lexer": "ipython3",
   "version": "3.9.13"
  }
 },
 "nbformat": 4,
 "nbformat_minor": 5
}
